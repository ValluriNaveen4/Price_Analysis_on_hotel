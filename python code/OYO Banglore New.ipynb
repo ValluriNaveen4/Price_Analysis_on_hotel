{
 "cells": [
  {
   "cell_type": "code",
   "execution_count": 1,
   "id": "d7860c04",
   "metadata": {},
   "outputs": [],
   "source": [
    "import numpy as np\n",
    "import pandas as pd\n",
    "import requests\n",
    "from bs4 import BeautifulSoup\n",
    "import re\n",
    "import warnings\n",
    "warnings.filterwarnings('ignore')"
   ]
  },
  {
   "cell_type": "code",
   "execution_count": 2,
   "id": "7ada630a",
   "metadata": {},
   "outputs": [],
   "source": [
    "hotel=[]\n",
    "price=[]\n",
    "location=[]\n",
    "km=[]\n",
    "rating=[]\n",
    "city=[]\n",
    "discount=[]\n",
    "Star_rating=[]\n",
    "Ratedby=[]\n",
    "Overall=[]\n",
    "original_price=[]\n",
    "for i in range(1,6):\n",
    "    url=f\"https://www.oyorooms.com/hotels-in-bangalore/?page={i}\"\n",
    "    link=requests.get(url)\n",
    "    a=requests.get(url,headers = {'User-Agent':'Mozilla/5.0'})\n",
    "    content=a.text\n",
    "    soup=BeautifulSoup(content)\n",
    "    \n",
    "    container=soup.find_all(\"div\",class_=\"hotelCardListing__descriptionWrapper\")\n",
    "    \n",
    "#     for i in container:\n",
    "#         print(i.text)\n",
    "    for i in container:\n",
    "        a=i.find(\"a\",class_=\"c-nn640c u-width100\")\n",
    "        text=a.text\n",
    "        hotel.append(text)\n",
    "    for i in container:\n",
    "        b=i.find(\"div\",class_=\"d-body-lg listingHotelDescription__hotelAddress\")\n",
    "        text=b.text\n",
    "        #print(text)\n",
    "        regex=re.findall(\"(.*),\",text)\n",
    "        \n",
    "        if regex:\n",
    "            location.append(regex[0])\n",
    "        else:\n",
    "            location.append(np.nan)\n",
    "        \n",
    "        regex1=re.findall(\",\\s(Bangalore).\",text)\n",
    "        #print(regex1)\n",
    "        if regex1:\n",
    "            city.append(regex1[0])\n",
    "        else:\n",
    "            city.append(\"Bangalore\")\n",
    "        \n",
    "        regex2=re.findall(\"(\\d\\.\\d\\skm)\",text)\n",
    "        #print(regex1)\n",
    "        if regex2:\n",
    "            km.append(regex2[0])\n",
    "        else:\n",
    "            km.append(np.nan)\n",
    "    for i in container:\n",
    "        b=i.find('div',class_='hotelRating')\n",
    "        text=b.text\n",
    "        regex=re.findall(\"(\\d\\.\\d)\\s\\(\",text)\n",
    "        if regex:\n",
    "            Star_rating.append(regex[0])\n",
    "        else:\n",
    "            Star_rating.append(np.nan)\n",
    "        regex2=re.findall(\"\\((\\d+\\s)\",text)\n",
    "        if regex2:\n",
    "            Ratedby.append(regex2[0])\n",
    "        else:\n",
    "            Ratedby.append(np.nan)\n",
    "        regex3=re.findall('.(\\w+.\\w+$)',text)\n",
    "        if regex3:\n",
    "            Overall.append(regex3[0])\n",
    "        else:\n",
    "            Overall.append(np.nan)\n",
    "    for i in container:\n",
    "        b=i.find('span',class_=\"listingPrice__finalPrice\")\n",
    "        #print(b)\n",
    "        text=b.text\n",
    "        regex=re.findall(\"\\₹(\\d+)\",text)\n",
    "        if regex:\n",
    "            price.append(regex[0])\n",
    "        else:\n",
    "            price.append(np.nan)\n",
    "    for i in container:\n",
    "        b=i.find(\"span\",class_=\"listingPrice__slashedPrice d-body-lg\")\n",
    "        text=b.text\n",
    "        regex=re.findall(\"\\d+\",text)\n",
    "        if regex:\n",
    "            original_price.append(regex[0])\n",
    "        else:\n",
    "            original_price.append(np.nan)\n",
    "    for i in container:\n",
    "        b=i.find('span',class_=\"listingPrice__percentage\")\n",
    "        text=b.text\n",
    "        regex=re.findall(\"\\d+\",text)\n",
    "        if regex:\n",
    "            discount.append(regex[0])\n",
    "        else:\n",
    "            discount.append(np.nan)\n",
    "            \n",
    "            "
   ]
  },
  {
   "cell_type": "code",
   "execution_count": 3,
   "id": "8f12a57d",
   "metadata": {},
   "outputs": [],
   "source": [
    "oyo_banglore=pd.DataFrame({'Hotel_Name':hotel,'location':location,'City':city,\"Star_rating\":Star_rating,\"Ratedby\":Ratedby,\"Ratingsummary\":Overall,\"Original_price_in(₹)\":original_price,\"Discount_in(%)\":discount,\"Final_price_in(₹)\":price})"
   ]
  },
  {
   "cell_type": "code",
   "execution_count": 4,
   "id": "f4065ded",
   "metadata": {},
   "outputs": [
    {
     "data": {
      "text/html": [
       "<div>\n",
       "<style scoped>\n",
       "    .dataframe tbody tr th:only-of-type {\n",
       "        vertical-align: middle;\n",
       "    }\n",
       "\n",
       "    .dataframe tbody tr th {\n",
       "        vertical-align: top;\n",
       "    }\n",
       "\n",
       "    .dataframe thead th {\n",
       "        text-align: right;\n",
       "    }\n",
       "</style>\n",
       "<table border=\"1\" class=\"dataframe\">\n",
       "  <thead>\n",
       "    <tr style=\"text-align: right;\">\n",
       "      <th></th>\n",
       "      <th>Hotel_Name</th>\n",
       "      <th>location</th>\n",
       "      <th>City</th>\n",
       "      <th>Star_rating</th>\n",
       "      <th>Ratedby</th>\n",
       "      <th>Ratingsummary</th>\n",
       "      <th>Original_price_in(₹)</th>\n",
       "      <th>Discount_in(%)</th>\n",
       "      <th>Final_price_in(₹)</th>\n",
       "    </tr>\n",
       "  </thead>\n",
       "  <tbody>\n",
       "    <tr>\n",
       "      <th>0</th>\n",
       "      <td>SPOT ON Yatra Inn Near Lalbagh Botanical Garden</td>\n",
       "      <td>Lalbagh</td>\n",
       "      <td>Bangalore</td>\n",
       "      <td>5.0</td>\n",
       "      <td>2637</td>\n",
       "      <td>Fabulous</td>\n",
       "      <td>2836</td>\n",
       "      <td>66</td>\n",
       "      <td>951</td>\n",
       "    </tr>\n",
       "    <tr>\n",
       "      <th>1</th>\n",
       "      <td>Super OYO Collection O Sabharwal Residency Nea...</td>\n",
       "      <td>Opposite Shanthinagar</td>\n",
       "      <td>Bangalore</td>\n",
       "      <td>4.3</td>\n",
       "      <td>162</td>\n",
       "      <td>Very Good</td>\n",
       "      <td>3154</td>\n",
       "      <td>65</td>\n",
       "      <td>1092</td>\n",
       "    </tr>\n",
       "    <tr>\n",
       "      <th>2</th>\n",
       "      <td>Super OYO Hotel Subha Residency Near Cubbon Park</td>\n",
       "      <td>Majestic</td>\n",
       "      <td>Bangalore</td>\n",
       "      <td>4.4</td>\n",
       "      <td>1743</td>\n",
       "      <td>Very Good</td>\n",
       "      <td>3102</td>\n",
       "      <td>71</td>\n",
       "      <td>899</td>\n",
       "    </tr>\n",
       "    <tr>\n",
       "      <th>3</th>\n",
       "      <td>OYO Townhouse Chic 364 Richmond Road Near Cubb...</td>\n",
       "      <td>Near Baldwin Women College, Richmond Town</td>\n",
       "      <td>Bangalore</td>\n",
       "      <td>4.3</td>\n",
       "      <td>1512</td>\n",
       "      <td>Very Good</td>\n",
       "      <td>5767</td>\n",
       "      <td>68</td>\n",
       "      <td>1817</td>\n",
       "    </tr>\n",
       "    <tr>\n",
       "      <th>4</th>\n",
       "      <td>OYO Shree Mookambika Guest House Near Sri Some...</td>\n",
       "      <td>Kormangla</td>\n",
       "      <td>Bangalore</td>\n",
       "      <td>4.4</td>\n",
       "      <td>467</td>\n",
       "      <td>Very Good</td>\n",
       "      <td>2912</td>\n",
       "      <td>73</td>\n",
       "      <td>767</td>\n",
       "    </tr>\n",
       "    <tr>\n",
       "      <th>...</th>\n",
       "      <td>...</td>\n",
       "      <td>...</td>\n",
       "      <td>...</td>\n",
       "      <td>...</td>\n",
       "      <td>...</td>\n",
       "      <td>...</td>\n",
       "      <td>...</td>\n",
       "      <td>...</td>\n",
       "      <td>...</td>\n",
       "    </tr>\n",
       "    <tr>\n",
       "      <th>95</th>\n",
       "      <td>Collection O Tierra Woods</td>\n",
       "      <td>5th Block</td>\n",
       "      <td>Bangalore</td>\n",
       "      <td>3.7</td>\n",
       "      <td>44</td>\n",
       "      <td>Good</td>\n",
       "      <td>3887</td>\n",
       "      <td>65</td>\n",
       "      <td>1360</td>\n",
       "    </tr>\n",
       "    <tr>\n",
       "      <th>96</th>\n",
       "      <td>OYO Flagship 810304 New Pavithra Paradise</td>\n",
       "      <td>No 462 3rd Phase 3rd Block Havanur Circle Basa...</td>\n",
       "      <td>Bangalore</td>\n",
       "      <td>NaN</td>\n",
       "      <td>NaN</td>\n",
       "      <td>NaN</td>\n",
       "      <td>3591</td>\n",
       "      <td>68</td>\n",
       "      <td>1131</td>\n",
       "    </tr>\n",
       "    <tr>\n",
       "      <th>97</th>\n",
       "      <td>OYO Townhouse 093 Ramamurthy Nagar Near Baiyap...</td>\n",
       "      <td>Near Ramamurthy Nagar Signal, Bangalore</td>\n",
       "      <td>Bangalore</td>\n",
       "      <td>4.1</td>\n",
       "      <td>849</td>\n",
       "      <td>Very Good</td>\n",
       "      <td>4985</td>\n",
       "      <td>64</td>\n",
       "      <td>1745</td>\n",
       "    </tr>\n",
       "    <tr>\n",
       "      <th>98</th>\n",
       "      <td>Collection O Onyx International Near Ragigudda...</td>\n",
       "      <td>Karnatakanull</td>\n",
       "      <td>Bangalore</td>\n",
       "      <td>3.8</td>\n",
       "      <td>324</td>\n",
       "      <td>Good</td>\n",
       "      <td>4475</td>\n",
       "      <td>65</td>\n",
       "      <td>1566</td>\n",
       "    </tr>\n",
       "    <tr>\n",
       "      <th>99</th>\n",
       "      <td>Capital O Elite Inn@Silicon Valley Near Ragigu...</td>\n",
       "      <td>Service Road, Koramangala</td>\n",
       "      <td>Bangalore</td>\n",
       "      <td>3.9</td>\n",
       "      <td>945</td>\n",
       "      <td>Good</td>\n",
       "      <td>5225</td>\n",
       "      <td>65</td>\n",
       "      <td>1829</td>\n",
       "    </tr>\n",
       "  </tbody>\n",
       "</table>\n",
       "<p>100 rows × 9 columns</p>\n",
       "</div>"
      ],
      "text/plain": [
       "                                           Hotel_Name  \\\n",
       "0     SPOT ON Yatra Inn Near Lalbagh Botanical Garden   \n",
       "1   Super OYO Collection O Sabharwal Residency Nea...   \n",
       "2    Super OYO Hotel Subha Residency Near Cubbon Park   \n",
       "3   OYO Townhouse Chic 364 Richmond Road Near Cubb...   \n",
       "4   OYO Shree Mookambika Guest House Near Sri Some...   \n",
       "..                                                ...   \n",
       "95                          Collection O Tierra Woods   \n",
       "96          OYO Flagship 810304 New Pavithra Paradise   \n",
       "97  OYO Townhouse 093 Ramamurthy Nagar Near Baiyap...   \n",
       "98  Collection O Onyx International Near Ragigudda...   \n",
       "99  Capital O Elite Inn@Silicon Valley Near Ragigu...   \n",
       "\n",
       "                                             location       City Star_rating  \\\n",
       "0                                             Lalbagh  Bangalore         5.0   \n",
       "1                               Opposite Shanthinagar  Bangalore         4.3   \n",
       "2                                            Majestic  Bangalore         4.4   \n",
       "3           Near Baldwin Women College, Richmond Town  Bangalore         4.3   \n",
       "4                                           Kormangla  Bangalore         4.4   \n",
       "..                                                ...        ...         ...   \n",
       "95                                          5th Block  Bangalore         3.7   \n",
       "96  No 462 3rd Phase 3rd Block Havanur Circle Basa...  Bangalore         NaN   \n",
       "97            Near Ramamurthy Nagar Signal, Bangalore  Bangalore         4.1   \n",
       "98                                      Karnatakanull  Bangalore         3.8   \n",
       "99                          Service Road, Koramangala  Bangalore         3.9   \n",
       "\n",
       "   Ratedby Ratingsummary Original_price_in(₹) Discount_in(%) Final_price_in(₹)  \n",
       "0    2637       Fabulous                 2836             66               951  \n",
       "1     162      Very Good                 3154             65              1092  \n",
       "2    1743      Very Good                 3102             71               899  \n",
       "3    1512      Very Good                 5767             68              1817  \n",
       "4     467      Very Good                 2912             73               767  \n",
       "..     ...           ...                  ...            ...               ...  \n",
       "95     44           Good                 3887             65              1360  \n",
       "96     NaN           NaN                 3591             68              1131  \n",
       "97    849      Very Good                 4985             64              1745  \n",
       "98    324           Good                 4475             65              1566  \n",
       "99    945           Good                 5225             65              1829  \n",
       "\n",
       "[100 rows x 9 columns]"
      ]
     },
     "execution_count": 4,
     "metadata": {},
     "output_type": "execute_result"
    }
   ],
   "source": [
    "oyo_banglore"
   ]
  },
  {
   "cell_type": "code",
   "execution_count": 5,
   "id": "a8e8cb7f",
   "metadata": {},
   "outputs": [
    {
     "data": {
      "text/plain": [
       "Hotel_Name              0\n",
       "location                1\n",
       "City                    0\n",
       "Star_rating             5\n",
       "Ratedby                 5\n",
       "Ratingsummary           5\n",
       "Original_price_in(₹)    0\n",
       "Discount_in(%)          0\n",
       "Final_price_in(₹)       0\n",
       "dtype: int64"
      ]
     },
     "execution_count": 5,
     "metadata": {},
     "output_type": "execute_result"
    }
   ],
   "source": [
    "oyo_banglore.isnull().sum()"
   ]
  },
  {
   "cell_type": "code",
   "execution_count": 6,
   "id": "1263ef3f",
   "metadata": {},
   "outputs": [],
   "source": [
    "oyo_banglore[\"Star_rating\"]=oyo_banglore[\"Star_rating\"].astype(float)"
   ]
  },
  {
   "cell_type": "code",
   "execution_count": 7,
   "id": "ce04c2fc",
   "metadata": {},
   "outputs": [
    {
     "data": {
      "text/plain": [
       "3.9705263157894746"
      ]
     },
     "execution_count": 7,
     "metadata": {},
     "output_type": "execute_result"
    }
   ],
   "source": [
    "oyo_banglore[\"Star_rating\"].mean()"
   ]
  },
  {
   "cell_type": "code",
   "execution_count": 8,
   "id": "fa7fc817",
   "metadata": {},
   "outputs": [],
   "source": [
    "oyo_banglore[\"Star_rating\"]=oyo_banglore[\"Star_rating\"].fillna(3.9)"
   ]
  },
  {
   "cell_type": "code",
   "execution_count": 11,
   "id": "ca6ed43c",
   "metadata": {
    "scrolled": false
   },
   "outputs": [
    {
     "data": {
      "text/plain": [
       "1014.8736842105263"
      ]
     },
     "execution_count": 11,
     "metadata": {},
     "output_type": "execute_result"
    }
   ],
   "source": [
    "oyo_banglore[\"Ratedby\"].mean()"
   ]
  },
  {
   "cell_type": "code",
   "execution_count": 10,
   "id": "6d4ca1b6",
   "metadata": {},
   "outputs": [],
   "source": [
    "oyo_banglore[\"Ratedby\"]=oyo_banglore[\"Ratedby\"].astype(float)"
   ]
  },
  {
   "cell_type": "code",
   "execution_count": 12,
   "id": "e0df66af",
   "metadata": {},
   "outputs": [],
   "source": [
    "oyo_banglore[\"Ratedby\"]=oyo_banglore[\"Ratedby\"].fillna(1014)"
   ]
  },
  {
   "cell_type": "code",
   "execution_count": 13,
   "id": "4a450e9b",
   "metadata": {},
   "outputs": [
    {
     "name": "stdout",
     "output_type": "stream",
     "text": [
      "<class 'pandas.core.frame.DataFrame'>\n",
      "RangeIndex: 100 entries, 0 to 99\n",
      "Data columns (total 9 columns):\n",
      " #   Column                Non-Null Count  Dtype  \n",
      "---  ------                --------------  -----  \n",
      " 0   Hotel_Name            100 non-null    object \n",
      " 1   location              99 non-null     object \n",
      " 2   City                  100 non-null    object \n",
      " 3   Star_rating           100 non-null    float64\n",
      " 4   Ratedby               100 non-null    float64\n",
      " 5   Ratingsummary         95 non-null     object \n",
      " 6   Original_price_in(₹)  100 non-null    object \n",
      " 7   Discount_in(%)        100 non-null    object \n",
      " 8   Final_price_in(₹)     100 non-null    object \n",
      "dtypes: float64(2), object(7)\n",
      "memory usage: 7.2+ KB\n"
     ]
    }
   ],
   "source": [
    "oyo_banglore.info()"
   ]
  },
  {
   "cell_type": "code",
   "execution_count": 14,
   "id": "14c2b90c",
   "metadata": {},
   "outputs": [],
   "source": [
    "oyo_banglore[\"Ratedby\"]=oyo_banglore[\"Ratedby\"].astype(int)"
   ]
  },
  {
   "cell_type": "code",
   "execution_count": 15,
   "id": "5c180055",
   "metadata": {},
   "outputs": [],
   "source": [
    "oyo_banglore[\"Final_price_in(₹)\"]=oyo_banglore[\"Final_price_in(₹)\"].astype(int)"
   ]
  },
  {
   "cell_type": "code",
   "execution_count": 16,
   "id": "44a682b7",
   "metadata": {},
   "outputs": [],
   "source": [
    "oyo_banglore[\"Original_price_in(₹)\"]=oyo_banglore[\"Original_price_in(₹)\"].astype(int)"
   ]
  },
  {
   "cell_type": "code",
   "execution_count": 17,
   "id": "71ce48ea",
   "metadata": {},
   "outputs": [],
   "source": [
    "oyo_banglore[\"Discount_in(%)\"]=oyo_banglore[\"Discount_in(%)\"].astype(int)"
   ]
  },
  {
   "cell_type": "code",
   "execution_count": 18,
   "id": "4ea2abd5",
   "metadata": {},
   "outputs": [],
   "source": [
    "#Filling the missing values using Mode\n",
    "\n",
    "x=oyo_banglore.Ratingsummary.mode()[0]\n",
    "oyo_banglore.Ratingsummary.fillna(x,inplace=True)"
   ]
  },
  {
   "cell_type": "code",
   "execution_count": 19,
   "id": "99607a18",
   "metadata": {},
   "outputs": [],
   "source": [
    "oyo_banglore.dropna(inplace=True)"
   ]
  },
  {
   "cell_type": "code",
   "execution_count": 20,
   "id": "eba91d8d",
   "metadata": {},
   "outputs": [
    {
     "data": {
      "text/plain": [
       "Hotel_Name              0\n",
       "location                0\n",
       "City                    0\n",
       "Star_rating             0\n",
       "Ratedby                 0\n",
       "Ratingsummary           0\n",
       "Original_price_in(₹)    0\n",
       "Discount_in(%)          0\n",
       "Final_price_in(₹)       0\n",
       "dtype: int64"
      ]
     },
     "execution_count": 20,
     "metadata": {},
     "output_type": "execute_result"
    }
   ],
   "source": [
    "oyo_banglore.isnull().sum()"
   ]
  },
  {
   "cell_type": "code",
   "execution_count": 21,
   "id": "ddf72711",
   "metadata": {},
   "outputs": [
    {
     "name": "stdout",
     "output_type": "stream",
     "text": [
      "<class 'pandas.core.frame.DataFrame'>\n",
      "Int64Index: 99 entries, 0 to 99\n",
      "Data columns (total 9 columns):\n",
      " #   Column                Non-Null Count  Dtype  \n",
      "---  ------                --------------  -----  \n",
      " 0   Hotel_Name            99 non-null     object \n",
      " 1   location              99 non-null     object \n",
      " 2   City                  99 non-null     object \n",
      " 3   Star_rating           99 non-null     float64\n",
      " 4   Ratedby               99 non-null     int32  \n",
      " 5   Ratingsummary         99 non-null     object \n",
      " 6   Original_price_in(₹)  99 non-null     int32  \n",
      " 7   Discount_in(%)        99 non-null     int32  \n",
      " 8   Final_price_in(₹)     99 non-null     int32  \n",
      "dtypes: float64(1), int32(4), object(4)\n",
      "memory usage: 6.2+ KB\n"
     ]
    }
   ],
   "source": [
    "oyo_banglore.info()"
   ]
  },
  {
   "cell_type": "code",
   "execution_count": 22,
   "id": "d257fca5",
   "metadata": {},
   "outputs": [],
   "source": [
    "oyo_banglore.to_csv(\"oyobanglore10\")"
   ]
  },
  {
   "cell_type": "code",
   "execution_count": null,
   "id": "91e6d943",
   "metadata": {},
   "outputs": [],
   "source": []
  }
 ],
 "metadata": {
  "kernelspec": {
   "display_name": "Python 3 (ipykernel)",
   "language": "python",
   "name": "python3"
  },
  "language_info": {
   "codemirror_mode": {
    "name": "ipython",
    "version": 3
   },
   "file_extension": ".py",
   "mimetype": "text/x-python",
   "name": "python",
   "nbconvert_exporter": "python",
   "pygments_lexer": "ipython3",
   "version": "3.11.5"
  }
 },
 "nbformat": 4,
 "nbformat_minor": 5
}
