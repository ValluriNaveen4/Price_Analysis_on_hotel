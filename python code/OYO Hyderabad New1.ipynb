{
 "cells": [
  {
   "cell_type": "code",
   "execution_count": 1,
   "id": "8a1c3bc0",
   "metadata": {},
   "outputs": [],
   "source": [
    "import numpy as np\n",
    "import pandas as pd\n",
    "import requests\n",
    "from bs4 import BeautifulSoup\n",
    "import re\n",
    "import warnings\n",
    "warnings.filterwarnings('ignore')"
   ]
  },
  {
   "cell_type": "code",
   "execution_count": 2,
   "id": "f176658b",
   "metadata": {},
   "outputs": [],
   "source": [
    "hotel=[]\n",
    "price=[]\n",
    "location=[]\n",
    "km=[]\n",
    "rating=[]\n",
    "city=[]\n",
    "discount=[]\n",
    "Star_rating=[]\n",
    "Ratedby=[]\n",
    "Overall=[]\n",
    "original_price=[]\n",
    "for i in range(1,6):\n",
    "    url=f\"https://www.oyorooms.com/hotels-in-hyderabad/?page={i}\"\n",
    "    link=requests.get(url)\n",
    "    a=requests.get(url,headers = {'User-Agent':'Mozilla/5.0'})\n",
    "    content=a.text\n",
    "    soup=BeautifulSoup(content)\n",
    "    \n",
    "    container=soup.find_all(\"div\",class_=\"hotelCardListing__descriptionWrapper\")\n",
    "    \n",
    "#     for i in container:\n",
    "#         print(i.text)\n",
    "    for i in container:\n",
    "        a=i.find(\"a\",class_=\"c-nn640c u-width100\")\n",
    "        text=a.text\n",
    "        hotel.append(text)\n",
    "    for i in container:\n",
    "        b=i.find(\"div\",class_=\"d-body-lg listingHotelDescription__hotelAddress\")\n",
    "        text=b.text\n",
    "        #print(text)\n",
    "        regex=re.findall(\"(.*),\",text)\n",
    "        \n",
    "        if regex:\n",
    "            location.append(regex[0])\n",
    "        else:\n",
    "            location.append(np.nan)\n",
    "        \n",
    "        regex1=re.findall(\",\\s(Hyderabad).\",text)\n",
    "        #print(regex1)\n",
    "        if regex1:\n",
    "            city.append(regex1[0])\n",
    "        else:\n",
    "            city.append(\"Hyderabad\")\n",
    "        \n",
    "        regex2=re.findall(\"(\\d\\.\\d\\skm)\",text)\n",
    "        #print(regex1)\n",
    "        if regex2:\n",
    "            km.append(regex2[0])\n",
    "        else:\n",
    "            km.append(np.nan)\n",
    "    for i in container:\n",
    "        b=i.find('div',class_='hotelRating')\n",
    "        text=b.text\n",
    "        regex=re.findall(\"(\\d\\.\\d)\\s\\(\",text)\n",
    "        if regex:\n",
    "            Star_rating.append(regex[0])\n",
    "        else:\n",
    "            Star_rating.append(np.nan)\n",
    "        #print(text)\n",
    "        regex2=re.findall(\"\\((\\d+\\s)\",text)\n",
    "        if regex2:\n",
    "            Ratedby.append(regex2[0])\n",
    "        else:\n",
    "            Ratedby.append(np.nan)\n",
    "        regex3=re.findall('.(\\w+.\\w+$)',text)\n",
    "        if regex3:\n",
    "            Overall.append(regex3[0])\n",
    "        else:\n",
    "            Overall.append(np.nan)\n",
    "    for i in container:\n",
    "        b=i.find('span',class_=\"listingPrice__finalPrice\")\n",
    "        text=b.text\n",
    "        regex=re.findall(\"\\d+\",text)\n",
    "        if text:\n",
    "            price.append(regex[0])\n",
    "        else:\n",
    "            price.append(np.nan)\n",
    "    for i in container:\n",
    "        b=i.find(\"span\",class_=\"listingPrice__slashedPrice d-body-lg\")\n",
    "        text=b.text\n",
    "        regex=re.findall(\"\\d+\",text)\n",
    "        if text:\n",
    "            original_price.append(regex[0])\n",
    "        else:\n",
    "            original_price.append(np.nan)\n",
    "    for i in container:\n",
    "        b=i.find('span',class_=\"listingPrice__percentage\")\n",
    "        text=b.text\n",
    "        regex=re.findall(\"\\d+\",text)\n",
    "        if text:\n",
    "            discount.append(regex[0])\n",
    "        else:\n",
    "            discount.append(np.nan)\n",
    "            \n",
    "            \n",
    "            "
   ]
  },
  {
   "cell_type": "code",
   "execution_count": 3,
   "id": "df99dcb9",
   "metadata": {},
   "outputs": [],
   "source": [
    "oyo_hyderabad=pd.DataFrame({'Hotel_Name':hotel,'location':location,'City':city,\"Star_rating\":Star_rating,\"Ratedby\":Ratedby,\"Ratingsummary\":Overall,\"Original_price_in(₹)\":original_price,\"Discount_in(%)\":discount,\"Final_price_in(₹)\":price})"
   ]
  },
  {
   "cell_type": "code",
   "execution_count": 4,
   "id": "d4becb1c",
   "metadata": {},
   "outputs": [
    {
     "data": {
      "text/html": [
       "<div>\n",
       "<style scoped>\n",
       "    .dataframe tbody tr th:only-of-type {\n",
       "        vertical-align: middle;\n",
       "    }\n",
       "\n",
       "    .dataframe tbody tr th {\n",
       "        vertical-align: top;\n",
       "    }\n",
       "\n",
       "    .dataframe thead th {\n",
       "        text-align: right;\n",
       "    }\n",
       "</style>\n",
       "<table border=\"1\" class=\"dataframe\">\n",
       "  <thead>\n",
       "    <tr style=\"text-align: right;\">\n",
       "      <th></th>\n",
       "      <th>Hotel_Name</th>\n",
       "      <th>location</th>\n",
       "      <th>City</th>\n",
       "      <th>Star_rating</th>\n",
       "      <th>Ratedby</th>\n",
       "      <th>Ratingsummary</th>\n",
       "      <th>Original_price_in(₹)</th>\n",
       "      <th>Discount_in(%)</th>\n",
       "      <th>Final_price_in(₹)</th>\n",
       "    </tr>\n",
       "  </thead>\n",
       "  <tbody>\n",
       "    <tr>\n",
       "      <th>0</th>\n",
       "      <td>OYO Hotel Hyderabad Continental</td>\n",
       "      <td>Near Tarakarama Theatre, Sultan Bazar</td>\n",
       "      <td>Hyderabad</td>\n",
       "      <td>4.2</td>\n",
       "      <td>1649</td>\n",
       "      <td>Very Good</td>\n",
       "      <td>1992</td>\n",
       "      <td>71</td>\n",
       "      <td>559</td>\n",
       "    </tr>\n",
       "    <tr>\n",
       "      <th>1</th>\n",
       "      <td>SPOT ON Hotel Rk Residency Near Charminar</td>\n",
       "      <td>Near Jaam Bagh, Hindustani Lane</td>\n",
       "      <td>Hyderabad</td>\n",
       "      <td>3.0</td>\n",
       "      <td>524</td>\n",
       "      <td>Fair</td>\n",
       "      <td>1951</td>\n",
       "      <td>75</td>\n",
       "      <td>477</td>\n",
       "    </tr>\n",
       "    <tr>\n",
       "      <th>2</th>\n",
       "      <td>OYO Hotel Aroma Classic Near Charminar</td>\n",
       "      <td>15-1-309 Feelkhana Near Acharaya Bhavan Baba R...</td>\n",
       "      <td>Hyderabad</td>\n",
       "      <td>3.9</td>\n",
       "      <td>585</td>\n",
       "      <td>Good</td>\n",
       "      <td>2200</td>\n",
       "      <td>72</td>\n",
       "      <td>599</td>\n",
       "    </tr>\n",
       "    <tr>\n",
       "      <th>3</th>\n",
       "      <td>Flagship Langar Houz Near Golconda Fort</td>\n",
       "      <td>Bapu Nagar</td>\n",
       "      <td>Hyderabad</td>\n",
       "      <td>4.1</td>\n",
       "      <td>281</td>\n",
       "      <td>Very Good</td>\n",
       "      <td>2184</td>\n",
       "      <td>67</td>\n",
       "      <td>699</td>\n",
       "    </tr>\n",
       "    <tr>\n",
       "      <th>4</th>\n",
       "      <td>OYO Sa Thirumala Residency Near Snow World</td>\n",
       "      <td>Near VRK Silks, Himayatnagar</td>\n",
       "      <td>Hyderabad</td>\n",
       "      <td>3.7</td>\n",
       "      <td>532</td>\n",
       "      <td>Good</td>\n",
       "      <td>3227</td>\n",
       "      <td>79</td>\n",
       "      <td>674</td>\n",
       "    </tr>\n",
       "    <tr>\n",
       "      <th>...</th>\n",
       "      <td>...</td>\n",
       "      <td>...</td>\n",
       "      <td>...</td>\n",
       "      <td>...</td>\n",
       "      <td>...</td>\n",
       "      <td>...</td>\n",
       "      <td>...</td>\n",
       "      <td>...</td>\n",
       "      <td>...</td>\n",
       "    </tr>\n",
       "    <tr>\n",
       "      <th>95</th>\n",
       "      <td>SPOT ON Gokul Residency Near Snow World</td>\n",
       "      <td>NaN</td>\n",
       "      <td>Hyderabad</td>\n",
       "      <td>2.6</td>\n",
       "      <td>267</td>\n",
       "      <td>Fair</td>\n",
       "      <td>1953</td>\n",
       "      <td>79</td>\n",
       "      <td>399</td>\n",
       "    </tr>\n",
       "    <tr>\n",
       "      <th>96</th>\n",
       "      <td>Flagship Royal Galaxy Lodge Near Charminar</td>\n",
       "      <td></td>\n",
       "      <td>Hyderabad</td>\n",
       "      <td>3.0</td>\n",
       "      <td>30</td>\n",
       "      <td>Fair</td>\n",
       "      <td>2222</td>\n",
       "      <td>68</td>\n",
       "      <td>699</td>\n",
       "    </tr>\n",
       "    <tr>\n",
       "      <th>97</th>\n",
       "      <td>Capital O Hotel Surabhi Elite Near Miraj Cinem...</td>\n",
       "      <td>Kothapet</td>\n",
       "      <td>Hyderabad</td>\n",
       "      <td>4.1</td>\n",
       "      <td>1097</td>\n",
       "      <td>Very Good</td>\n",
       "      <td>5928</td>\n",
       "      <td>65</td>\n",
       "      <td>2075</td>\n",
       "    </tr>\n",
       "    <tr>\n",
       "      <th>98</th>\n",
       "      <td>Capital O Hotel Vaishnavi</td>\n",
       "      <td>Near Csi Wesley Church, Paras Towers</td>\n",
       "      <td>Hyderabad</td>\n",
       "      <td>4.3</td>\n",
       "      <td>1393</td>\n",
       "      <td>Very Good</td>\n",
       "      <td>5119</td>\n",
       "      <td>64</td>\n",
       "      <td>1792</td>\n",
       "    </tr>\n",
       "    <tr>\n",
       "      <th>99</th>\n",
       "      <td>OYO Hotel Shyam Near Snow World</td>\n",
       "      <td>Secunderabad Mandal</td>\n",
       "      <td>Hyderabad</td>\n",
       "      <td>3.2</td>\n",
       "      <td>108</td>\n",
       "      <td>Fair</td>\n",
       "      <td>2286</td>\n",
       "      <td>75</td>\n",
       "      <td>564</td>\n",
       "    </tr>\n",
       "  </tbody>\n",
       "</table>\n",
       "<p>100 rows × 9 columns</p>\n",
       "</div>"
      ],
      "text/plain": [
       "                                           Hotel_Name  \\\n",
       "0                     OYO Hotel Hyderabad Continental   \n",
       "1           SPOT ON Hotel Rk Residency Near Charminar   \n",
       "2              OYO Hotel Aroma Classic Near Charminar   \n",
       "3             Flagship Langar Houz Near Golconda Fort   \n",
       "4          OYO Sa Thirumala Residency Near Snow World   \n",
       "..                                                ...   \n",
       "95            SPOT ON Gokul Residency Near Snow World   \n",
       "96         Flagship Royal Galaxy Lodge Near Charminar   \n",
       "97  Capital O Hotel Surabhi Elite Near Miraj Cinem...   \n",
       "98                          Capital O Hotel Vaishnavi   \n",
       "99                    OYO Hotel Shyam Near Snow World   \n",
       "\n",
       "                                             location       City Star_rating  \\\n",
       "0               Near Tarakarama Theatre, Sultan Bazar  Hyderabad         4.2   \n",
       "1                     Near Jaam Bagh, Hindustani Lane  Hyderabad         3.0   \n",
       "2   15-1-309 Feelkhana Near Acharaya Bhavan Baba R...  Hyderabad         3.9   \n",
       "3                                          Bapu Nagar  Hyderabad         4.1   \n",
       "4                        Near VRK Silks, Himayatnagar  Hyderabad         3.7   \n",
       "..                                                ...        ...         ...   \n",
       "95                                                NaN  Hyderabad         2.6   \n",
       "96                                                     Hyderabad         3.0   \n",
       "97                                           Kothapet  Hyderabad         4.1   \n",
       "98               Near Csi Wesley Church, Paras Towers  Hyderabad         4.3   \n",
       "99                                Secunderabad Mandal  Hyderabad         3.2   \n",
       "\n",
       "   Ratedby Ratingsummary Original_price_in(₹) Discount_in(%) Final_price_in(₹)  \n",
       "0    1649      Very Good                 1992             71               559  \n",
       "1     524           Fair                 1951             75               477  \n",
       "2     585           Good                 2200             72               599  \n",
       "3     281      Very Good                 2184             67               699  \n",
       "4     532           Good                 3227             79               674  \n",
       "..     ...           ...                  ...            ...               ...  \n",
       "95    267           Fair                 1953             79               399  \n",
       "96     30           Fair                 2222             68               699  \n",
       "97   1097      Very Good                 5928             65              2075  \n",
       "98   1393      Very Good                 5119             64              1792  \n",
       "99    108           Fair                 2286             75               564  \n",
       "\n",
       "[100 rows x 9 columns]"
      ]
     },
     "execution_count": 4,
     "metadata": {},
     "output_type": "execute_result"
    }
   ],
   "source": [
    "oyo_hyderabad"
   ]
  },
  {
   "cell_type": "code",
   "execution_count": 5,
   "id": "d2761625",
   "metadata": {},
   "outputs": [
    {
     "name": "stdout",
     "output_type": "stream",
     "text": [
      "<class 'pandas.core.frame.DataFrame'>\n",
      "RangeIndex: 100 entries, 0 to 99\n",
      "Data columns (total 9 columns):\n",
      " #   Column                Non-Null Count  Dtype \n",
      "---  ------                --------------  ----- \n",
      " 0   Hotel_Name            100 non-null    object\n",
      " 1   location              96 non-null     object\n",
      " 2   City                  100 non-null    object\n",
      " 3   Star_rating           99 non-null     object\n",
      " 4   Ratedby               99 non-null     object\n",
      " 5   Ratingsummary         99 non-null     object\n",
      " 6   Original_price_in(₹)  100 non-null    object\n",
      " 7   Discount_in(%)        100 non-null    object\n",
      " 8   Final_price_in(₹)     100 non-null    object\n",
      "dtypes: object(9)\n",
      "memory usage: 7.2+ KB\n"
     ]
    }
   ],
   "source": [
    "oyo_hyderabad.info()"
   ]
  },
  {
   "cell_type": "code",
   "execution_count": 6,
   "id": "89da94b4",
   "metadata": {},
   "outputs": [
    {
     "data": {
      "text/plain": [
       "Hotel_Name              0\n",
       "location                4\n",
       "City                    0\n",
       "Star_rating             1\n",
       "Ratedby                 1\n",
       "Ratingsummary           1\n",
       "Original_price_in(₹)    0\n",
       "Discount_in(%)          0\n",
       "Final_price_in(₹)       0\n",
       "dtype: int64"
      ]
     },
     "execution_count": 6,
     "metadata": {},
     "output_type": "execute_result"
    }
   ],
   "source": [
    "oyo_hyderabad.isnull().sum()"
   ]
  },
  {
   "cell_type": "code",
   "execution_count": 7,
   "id": "9d916bfd",
   "metadata": {},
   "outputs": [],
   "source": [
    "oyo_hyderabad[\"Ratedby\"]=oyo_hyderabad[\"Ratedby\"].astype(float)"
   ]
  },
  {
   "cell_type": "code",
   "execution_count": 8,
   "id": "b9a2f109",
   "metadata": {},
   "outputs": [
    {
     "data": {
      "text/plain": [
       "1165.4242424242425"
      ]
     },
     "execution_count": 8,
     "metadata": {},
     "output_type": "execute_result"
    }
   ],
   "source": [
    "oyo_hyderabad[\"Ratedby\"].mean()"
   ]
  },
  {
   "cell_type": "code",
   "execution_count": 9,
   "id": "a41ef536",
   "metadata": {},
   "outputs": [],
   "source": [
    "oyo_hyderabad[\"Ratedby\"]=oyo_hyderabad[\"Ratedby\"].fillna(1080)"
   ]
  },
  {
   "cell_type": "code",
   "execution_count": 10,
   "id": "0bf9eab9",
   "metadata": {},
   "outputs": [],
   "source": [
    "oyo_hyderabad[\"Ratedby\"]=oyo_hyderabad[\"Ratedby\"].astype(int)"
   ]
  },
  {
   "cell_type": "code",
   "execution_count": 11,
   "id": "54ba5b84",
   "metadata": {},
   "outputs": [],
   "source": [
    "oyo_hyderabad[\"Star_rating\"]=oyo_hyderabad[\"Star_rating\"].astype(float)"
   ]
  },
  {
   "cell_type": "code",
   "execution_count": 12,
   "id": "65fbade2",
   "metadata": {},
   "outputs": [
    {
     "data": {
      "text/plain": [
       "3.9080808080808103"
      ]
     },
     "execution_count": 12,
     "metadata": {},
     "output_type": "execute_result"
    }
   ],
   "source": [
    "oyo_hyderabad[\"Star_rating\"].mean()"
   ]
  },
  {
   "cell_type": "code",
   "execution_count": 13,
   "id": "6943b583",
   "metadata": {},
   "outputs": [],
   "source": [
    "oyo_hyderabad[\"Star_rating\"]=oyo_hyderabad[\"Star_rating\"].fillna(3.8)"
   ]
  },
  {
   "cell_type": "code",
   "execution_count": 14,
   "id": "69d06589",
   "metadata": {},
   "outputs": [],
   "source": [
    "oyo_hyderabad[\"Star_rating\"]=oyo_hyderabad[\"Star_rating\"].astype(float)"
   ]
  },
  {
   "cell_type": "code",
   "execution_count": 16,
   "id": "fbf76403",
   "metadata": {},
   "outputs": [],
   "source": [
    "#Filling the missing values using Mode\n",
    "\n",
    "x=oyo_hyderabad.Ratingsummary.mode()[0]\n",
    "oyo_hyderabad.Ratingsummary.fillna(x,inplace=True)"
   ]
  },
  {
   "cell_type": "code",
   "execution_count": 17,
   "id": "925530e5",
   "metadata": {},
   "outputs": [],
   "source": [
    "oyo_hyderabad[\"Final_price_in(₹)\"]=oyo_hyderabad[\"Final_price_in(₹)\"].astype(int)"
   ]
  },
  {
   "cell_type": "code",
   "execution_count": 18,
   "id": "3f469a0c",
   "metadata": {},
   "outputs": [],
   "source": [
    "oyo_hyderabad[\"Original_price_in(₹)\"]=oyo_hyderabad[\"Original_price_in(₹)\"].astype(int)"
   ]
  },
  {
   "cell_type": "code",
   "execution_count": 19,
   "id": "ed00f529",
   "metadata": {},
   "outputs": [],
   "source": [
    "oyo_hyderabad[\"Discount_in(%)\"]=oyo_hyderabad[\"Discount_in(%)\"].astype(int)"
   ]
  },
  {
   "cell_type": "code",
   "execution_count": 20,
   "id": "f5904093",
   "metadata": {},
   "outputs": [
    {
     "data": {
      "text/plain": [
       "Hotel_Name              0\n",
       "location                4\n",
       "City                    0\n",
       "Star_rating             0\n",
       "Ratedby                 0\n",
       "Ratingsummary           0\n",
       "Original_price_in(₹)    0\n",
       "Discount_in(%)          0\n",
       "Final_price_in(₹)       0\n",
       "dtype: int64"
      ]
     },
     "execution_count": 20,
     "metadata": {},
     "output_type": "execute_result"
    }
   ],
   "source": [
    "oyo_hyderabad.isnull().sum()"
   ]
  },
  {
   "cell_type": "code",
   "execution_count": 21,
   "id": "161ce477",
   "metadata": {},
   "outputs": [],
   "source": [
    "oyo_hyderabad.dropna(inplace=True)"
   ]
  },
  {
   "cell_type": "code",
   "execution_count": 22,
   "id": "6b34d782",
   "metadata": {},
   "outputs": [
    {
     "name": "stdout",
     "output_type": "stream",
     "text": [
      "<class 'pandas.core.frame.DataFrame'>\n",
      "Int64Index: 96 entries, 0 to 99\n",
      "Data columns (total 9 columns):\n",
      " #   Column                Non-Null Count  Dtype  \n",
      "---  ------                --------------  -----  \n",
      " 0   Hotel_Name            96 non-null     object \n",
      " 1   location              96 non-null     object \n",
      " 2   City                  96 non-null     object \n",
      " 3   Star_rating           96 non-null     float64\n",
      " 4   Ratedby               96 non-null     int32  \n",
      " 5   Ratingsummary         96 non-null     object \n",
      " 6   Original_price_in(₹)  96 non-null     int32  \n",
      " 7   Discount_in(%)        96 non-null     int32  \n",
      " 8   Final_price_in(₹)     96 non-null     int32  \n",
      "dtypes: float64(1), int32(4), object(4)\n",
      "memory usage: 6.0+ KB\n"
     ]
    }
   ],
   "source": [
    "\n",
    "oyo_hyderabad.info()"
   ]
  },
  {
   "cell_type": "code",
   "execution_count": 23,
   "id": "c485bae2",
   "metadata": {},
   "outputs": [
    {
     "data": {
      "text/plain": [
       "Hotel_Name              0\n",
       "location                0\n",
       "City                    0\n",
       "Star_rating             0\n",
       "Ratedby                 0\n",
       "Ratingsummary           0\n",
       "Original_price_in(₹)    0\n",
       "Discount_in(%)          0\n",
       "Final_price_in(₹)       0\n",
       "dtype: int64"
      ]
     },
     "execution_count": 23,
     "metadata": {},
     "output_type": "execute_result"
    }
   ],
   "source": [
    "oyo_hyderabad.isnull().sum()"
   ]
  },
  {
   "cell_type": "code",
   "execution_count": 24,
   "id": "0df00060",
   "metadata": {},
   "outputs": [],
   "source": [
    "oyo_hyderabad.to_csv(\"oyohyderabad10\")"
   ]
  },
  {
   "cell_type": "code",
   "execution_count": null,
   "id": "a0978701",
   "metadata": {},
   "outputs": [],
   "source": []
  },
  {
   "cell_type": "code",
   "execution_count": null,
   "id": "273e39c9",
   "metadata": {},
   "outputs": [],
   "source": []
  }
 ],
 "metadata": {
  "kernelspec": {
   "display_name": "Python 3 (ipykernel)",
   "language": "python",
   "name": "python3"
  },
  "language_info": {
   "codemirror_mode": {
    "name": "ipython",
    "version": 3
   },
   "file_extension": ".py",
   "mimetype": "text/x-python",
   "name": "python",
   "nbconvert_exporter": "python",
   "pygments_lexer": "ipython3",
   "version": "3.9.13"
  }
 },
 "nbformat": 4,
 "nbformat_minor": 5
}
